{
  "cells": [
    {
      "cell_type": "markdown",
      "metadata": {
        "id": "Tcn9J4J-DT3j"
      },
      "source": [
        "# Notebook: Random Forest with TF-IDF and Supplemental Dataset"
      ]
    },
    {
      "cell_type": "markdown",
      "metadata": {
        "id": "4zADW4lyWeZV"
      },
      "source": [
        "This notebook implements a Random Forest model using TF-IDF as well as supplemental data from the Guardian dataset. The true stories are balanced equally between the original true stories and Guardian news to avoid class imbalance. The updated code below is compatible with the latest versions of the libraries."
      ]
    },
    {
      "cell_type": "markdown",
      "metadata": {
        "id": "DnLVyMBjDT3l"
      },
      "source": [
        "## Importing Libraries and Defining Constants"
      ]
    },
    {
      "cell_type": "code",
      "execution_count": 1,
      "metadata": {
        "id": "USPFGqkOXFrQ",
        "colab": {
          "base_uri": "https://localhost:8080/"
        },
        "outputId": "ed5dc24c-3e40-4d03-eae6-9ca4622175dc"
      },
      "outputs": [
        {
          "output_type": "stream",
          "name": "stdout",
          "text": [
            "Mounted at /content/drive\n"
          ]
        }
      ],
      "source": [
        "# Mount Google Drive (if using Colab)\n",
        "from google.colab import drive\n",
        "drive.mount('/content/drive')"
      ]
    },
    {
      "cell_type": "code",
      "execution_count": 2,
      "metadata": {
        "id": "YqscD_KhXGJ-"
      },
      "outputs": [],
      "source": [
        "# Copy the helper functions file from Google Drive to local storage\n",
        "!cp \"drive/MyDrive/Fake/model_helperfunctions.py\" ."
      ]
    },
    {
      "cell_type": "code",
      "execution_count": 3,
      "metadata": {
        "id": "lIIDaz1cDT3l"
      },
      "outputs": [],
      "source": [
        "# Import necessary libraries\n",
        "import pandas as pd\n",
        "import numpy as np\n",
        "import model_helperfunctions\n",
        "import ast\n",
        "import matplotlib.pyplot as plt\n",
        "import pickle\n",
        "import os\n",
        "\n",
        "from sklearn.ensemble import RandomForestClassifier\n",
        "from sklearn.model_selection import train_test_split\n",
        "from sklearn.feature_extraction.text import CountVectorizer, TfidfTransformer\n",
        "from sklearn.pipeline import Pipeline\n",
        "from sklearn.preprocessing import LabelEncoder\n",
        "from sklearn.metrics import classification_report, ConfusionMatrixDisplay\n",
        "from sklearn.metrics import precision_recall_curve, auc, accuracy_score, f1_score, recall_score\n",
        "from sklearn.model_selection import GridSearchCV\n",
        "from model_helperfunctions import identity_function\n",
        "\n",
        "# Ensure inline plotting\n",
        "%matplotlib inline"
      ]
    },
    {
      "cell_type": "code",
      "execution_count": 4,
      "metadata": {
        "id": "LeeDU8irDT3m"
      },
      "outputs": [],
      "source": [
        "# Set paths and constants\n",
        "DATA_PATH = \"/content/drive/MyDrive/Fake/Data/\"\n",
        "PRE_PROCESSED_DATA_FILE_NAME = 'kaggle_newsdataset_preprocessed.csv'\n",
        "GUARDIAN_DATA_FILE_NAME = 'guardian_newsdataset_cleaned.csv'\n",
        "RANDOM_STATE = 42\n",
        "pd.options.display.max_seq_items = 20\n",
        "pd.options.display.max_rows = 50"
      ]
    },
    {
      "cell_type": "markdown",
      "metadata": {
        "id": "Ai9HuLTJDT3m"
      },
      "source": [
        "## Load the Data"
      ]
    },
    {
      "cell_type": "code",
      "execution_count": 5,
      "metadata": {
        "id": "xB9nyU92DT3m"
      },
      "outputs": [],
      "source": [
        "df = pd.read_csv(DATA_PATH + PRE_PROCESSED_DATA_FILE_NAME,\n",
        "                 low_memory=False,\n",
        "                 usecols=['title', 'text', 'label', 'clean_text_tokens', 'clean_title_tokens'])"
      ]
    },
    {
      "cell_type": "code",
      "execution_count": 6,
      "metadata": {
        "id": "3UgF0-m9DT3m"
      },
      "outputs": [],
      "source": [
        "# Convert the token columns from string representation to lists\n",
        "df['clean_text_tokens'] = df['clean_text_tokens'].map(ast.literal_eval)\n",
        "df['clean_title_tokens'] = df['clean_title_tokens'].map(ast.literal_eval)"
      ]
    },
    {
      "cell_type": "markdown",
      "metadata": {
        "id": "u2JkKmzTDT3n"
      },
      "source": [
        "## Split Data by Label"
      ]
    },
    {
      "cell_type": "code",
      "execution_count": 7,
      "metadata": {
        "id": "GGBRKx-XDT3o"
      },
      "outputs": [],
      "source": [
        "df_fake = df[df.label == 'fake']"
      ]
    },
    {
      "cell_type": "code",
      "execution_count": 8,
      "metadata": {
        "id": "9uLrpgvLDT3o"
      },
      "outputs": [],
      "source": [
        "df_true_og = df[df.label == 'true']"
      ]
    },
    {
      "cell_type": "code",
      "execution_count": 9,
      "metadata": {
        "id": "3pSsM_xeDT3o"
      },
      "outputs": [],
      "source": [
        "# Take a random sample of the original true data to balance with fake data\n",
        "df_true_og_sample = df_true_og.sample(n=len(df_fake)//2, random_state=RANDOM_STATE)"
      ]
    },
    {
      "cell_type": "markdown",
      "metadata": {
        "id": "yxipOeqeDT3o"
      },
      "source": [
        "## Integrate Guardian Stories as True News"
      ]
    },
    {
      "cell_type": "code",
      "execution_count": 10,
      "metadata": {
        "id": "hNHa0DovDT3p"
      },
      "outputs": [],
      "source": [
        "# For the Guardian data, load and then convert the token column\n",
        "df_guard = pd.read_csv(DATA_PATH + GUARDIAN_DATA_FILE_NAME, low_memory=False)\n",
        "df_guard['tt_tokens'] = df_guard['tt_tokens'].map(ast.literal_eval)\n",
        "\n",
        "# Take a random sample from the Guardian data\n",
        "df_guard_sample = df_guard.sample(n=len(df_fake)//2, random_state=RANDOM_STATE)\n",
        "df_guard_sample['label'] = 'true'"
      ]
    },
    {
      "cell_type": "code",
      "execution_count": 11,
      "metadata": {
        "id": "z1_8ojdpDT3p"
      },
      "outputs": [],
      "source": [
        "# Combine the datasets\n",
        "df_all = pd.concat([\n",
        "    df_fake[['label', 'clean_text_tokens']],\n",
        "    df_true_og_sample[['label', 'clean_text_tokens']],\n",
        "    df_guard_sample[['label', 'tt_tokens']]\n",
        "], axis=0)\n",
        "\n",
        "# For consistency, create a unified token column named 'tt_tokens'\n",
        "df_all['tt_tokens'] = df_all.apply(lambda row: row['tt_tokens'] if 'tt_tokens' in row and isinstance(row['tt_tokens'], list) else row['clean_text_tokens'] + row.get('clean_title_tokens', []), axis=1)"
      ]
    },
    {
      "cell_type": "markdown",
      "metadata": {
        "id": "-891YR2LDT3p"
      },
      "source": [
        "## Split the Data into Training and Test Sets"
      ]
    },
    {
      "cell_type": "code",
      "execution_count": 12,
      "metadata": {
        "id": "YIHEx63FDT3p"
      },
      "outputs": [],
      "source": [
        "y = df_all.label\n",
        "X = df_all[['tt_tokens']]\n",
        "\n",
        "X_train, X_test, y_train, y_test = train_test_split(X, y,\n",
        "                                                    test_size=0.2,\n",
        "                                                    random_state=RANDOM_STATE,\n",
        "                                                    stratify=y)"
      ]
    },
    {
      "cell_type": "markdown",
      "metadata": {
        "id": "hDI5M36GDT3q"
      },
      "source": [
        "## Encode the Labels"
      ]
    },
    {
      "cell_type": "code",
      "execution_count": 13,
      "metadata": {
        "id": "NPJOaz3BDT3q"
      },
      "outputs": [],
      "source": [
        "le = LabelEncoder()\n",
        "y_train_enc = le.fit_transform(y_train)\n",
        "y_test_enc = le.transform(y_test)"
      ]
    },
    {
      "cell_type": "markdown",
      "metadata": {
        "id": "aoLci6FwDT3q"
      },
      "source": [
        "## Train the Model"
      ]
    },
    {
      "cell_type": "code",
      "execution_count": 14,
      "metadata": {
        "id": "SnYbl9mhDT3q",
        "colab": {
          "base_uri": "https://localhost:8080/",
          "height": 1000
        },
        "outputId": "938c0ba5-4992-4bed-8506-f7e8a7a87384"
      },
      "outputs": [
        {
          "output_type": "stream",
          "name": "stderr",
          "text": [
            "/usr/local/lib/python3.11/dist-packages/sklearn/feature_extraction/text.py:517: UserWarning: The parameter 'token_pattern' will not be used since 'tokenizer' is not None'\n",
            "  warnings.warn(\n"
          ]
        },
        {
          "output_type": "stream",
          "name": "stdout",
          "text": [
            "Classification report for Training set:\n",
            "              precision    recall  f1-score   support\n",
            "\n",
            "        fake       1.00      1.00      1.00     13957\n",
            "        true       1.00      1.00      1.00     13957\n",
            "\n",
            "    accuracy                           1.00     27914\n",
            "   macro avg       1.00      1.00      1.00     27914\n",
            "weighted avg       1.00      1.00      1.00     27914\n",
            "\n"
          ]
        },
        {
          "output_type": "display_data",
          "data": {
            "text/plain": [
              "<Figure size 640x480 with 2 Axes>"
            ],
            "image/png": "[encoded data removed]"
          },
          "metadata": {}
        },
        {
          "output_type": "display_data",
          "data": {
            "text/plain": [
              "<Figure size 640x480 with 2 Axes>"
            ],
            "image/png": "[encoded data removed]"
          },
          "metadata": {}
        },
        {
          "output_type": "stream",
          "name": "stdout",
          "text": [
            "Classification report for Test set:\n",
            "              precision    recall  f1-score   support\n",
            "\n",
            "        fake       0.98      0.97      0.97      3490\n",
            "        true       0.97      0.98      0.97      3489\n",
            "\n",
            "    accuracy                           0.97      6979\n",
            "   macro avg       0.97      0.97      0.97      6979\n",
            "weighted avg       0.97      0.97      0.97      6979\n",
            "\n"
          ]
        },
        {
          "output_type": "display_data",
          "data": {
            "text/plain": [
              "<Figure size 640x480 with 2 Axes>"
            ],
            "image/png": "[encoded data removed]"
          },
          "metadata": {}
        },
        {
          "output_type": "display_data",
          "data": {
            "text/plain": [
              "<Figure size 640x480 with 2 Axes>"
            ],
            "image/png": "[encoded data removed]"
          },
          "metadata": {}
        }
      ],
      "source": [
        "def train_and_eval_model(X_train_tokens, X_test_tokens, y_train_enc, y_test_enc, classes_,\n",
        "                        preprocessor, tokenizer, max_df=1.0, ngram_range=(1, 1),\n",
        "                        min_samples_split=2, max_depth=None):\n",
        "    \"\"\"\n",
        "    Train and evaluate a model using a bag-of-words representation and RandomForestClassifier.\n",
        "    \"\"\"\n",
        "    pipeline = Pipeline([\n",
        "        ('bow', CountVectorizer(min_df=5,\n",
        "                                preprocessor=preprocessor,\n",
        "                                tokenizer=tokenizer,\n",
        "                                max_df=max_df,\n",
        "                                ngram_range=ngram_range)),\n",
        "        ('tfidf', TfidfTransformer()),\n",
        "        ('classifier', RandomForestClassifier(n_jobs=-1,\n",
        "                                               random_state=RANDOM_STATE,\n",
        "                                               min_samples_split=min_samples_split,\n",
        "                                               max_depth=max_depth))\n",
        "    ])\n",
        "\n",
        "    pipeline.fit(X_train_tokens, y_train_enc)\n",
        "\n",
        "    # Use the updated helper function (note the corrected name) to display reports\n",
        "    model_helperfunctions.confusion_matrix_and_classification_report(pipeline,\n",
        "                                                                     X_train_tokens,\n",
        "                                                                     y_train_enc,\n",
        "                                                                     classes_,\n",
        "                                                                     'Training')\n",
        "\n",
        "    model_helperfunctions.confusion_matrix_and_classification_report(pipeline,\n",
        "                                                                     X_test_tokens,\n",
        "                                                                     y_test_enc,\n",
        "                                                                     classes_,\n",
        "                                                                     'Test')\n",
        "\n",
        "    return pipeline\n",
        "\n",
        "# Train a model using only the tokenized text (tt_tokens)\n",
        "pipe_expanded_sw_no_via = train_and_eval_model(\n",
        "    X_train['tt_tokens'],\n",
        "    X_test['tt_tokens'],\n",
        "    y_train_enc,\n",
        "    y_test_enc,\n",
        "    le.classes_,\n",
        "    preprocessor=identity_function,  # Now using the importable function\n",
        "    tokenizer=model_helperfunctions.passthrough,\n",
        "    min_samples_split=0.005\n",
        ")"
      ]
    },
    {
      "cell_type": "code",
      "execution_count": 15,
      "metadata": {
        "id": "YYaypdJSDT3r",
        "scrolled": true,
        "colab": {
          "base_uri": "https://localhost:8080/",
          "height": 990
        },
        "outputId": "44461e2c-09dc-49d9-c007-ce132b8a671b"
      },
      "outputs": [
        {
          "output_type": "execute_result",
          "data": {
            "text/plain": [
              "                importance\n",
              "said              0.032748\n",
              "via               0.027194\n",
              "!                 0.016047\n",
              "minister          0.015078\n",
              "image             0.014762\n",
              "on                0.013250\n",
              "labour            0.012185\n",
              "WASHINGTON        0.011591\n",
              "EU                0.010651\n",
              "U.S.              0.010568\n",
              "parliament        0.010337\n",
              "twitter-handle    0.010058\n",
              "brexit            0.009889\n",
              "prime             0.009312\n",
              "images            0.008940\n",
              "its               0.008829\n",
              "just              0.008563\n",
              "government        0.008164\n",
              "you               0.008145\n",
              "britain           0.007532\n",
              "link              0.006876\n",
              "mps               0.006870\n",
              "UK                0.006435\n",
              "trump             0.006002\n",
              "theresa           0.005902\n",
              "british           0.005663\n",
              "in                0.005614\n",
              "london            0.005489\n",
              "GOP               0.005250\n",
              "guardian          0.005219"
            ],
            "text/html": [
              "\n",
              "  <div id=\"df-29e2f2bb-3404-44c1-9516-f47b076ba939\" class=\"colab-df-container\">\n",
              "    <div>\n",
              "<style scoped>\n",
              "    .dataframe tbody tr th:only-of-type {\n",
              "        vertical-align: middle;\n",
              "    }\n",
              "\n",
              "    .dataframe tbody tr th {\n",
              "        vertical-align: top;\n",
              "    }\n",
              "\n",
              "    .dataframe thead th {\n",
              "        text-align: right;\n",
              "    }\n",
              "</style>\n",
              "<table border=\"1\" class=\"dataframe\">\n",
              "  <thead>\n",
              "    <tr style=\"text-align: right;\">\n",
              "      <th></th>\n",
              "      <th>importance</th>\n",
              "    </tr>\n",
              "  </thead>\n",
              "  <tbody>\n",
              "    <tr>\n",
              "      <th>said</th>\n",
              "      <td>0.032748</td>\n",
              "    </tr>\n",
              "    <tr>\n",
              "      <th>via</th>\n",
              "      <td>0.027194</td>\n",
              "    </tr>\n",
              "    <tr>\n",
              "      <th>!</th>\n",
              "      <td>0.016047</td>\n",
              "    </tr>\n",
              "    <tr>\n",
              "      <th>minister</th>\n",
              "      <td>0.015078</td>\n",
              "    </tr>\n",
              "    <tr>\n",
              "      <th>image</th>\n",
              "      <td>0.014762</td>\n",
              "    </tr>\n",
              "    <tr>\n",
              "      <th>on</th>\n",
              "      <td>0.013250</td>\n",
              "    </tr>\n",
              "    <tr>\n",
              "      <th>labour</th>\n",
              "      <td>0.012185</td>\n",
              "    </tr>\n",
              "    <tr>\n",
              "      <th>WASHINGTON</th>\n",
              "      <td>0.011591</td>\n",
              "    </tr>\n",
              "    <tr>\n",
              "      <th>EU</th>\n",
              "      <td>0.010651</td>\n",
              "    </tr>\n",
              "    <tr>\n",
              "      <th>U.S.</th>\n",
              "      <td>0.010568</td>\n",
              "    </tr>\n",
              "    <tr>\n",
              "      <th>parliament</th>\n",
              "      <td>0.010337</td>\n",
              "    </tr>\n",
              "    <tr>\n",
              "      <th>twitter-handle</th>\n",
              "      <td>0.010058</td>\n",
              "    </tr>\n",
              "    <tr>\n",
              "      <th>brexit</th>\n",
              "      <td>0.009889</td>\n",
              "    </tr>\n",
              "    <tr>\n",
              "      <th>prime</th>\n",
              "      <td>0.009312</td>\n",
              "    </tr>\n",
              "    <tr>\n",
              "      <th>images</th>\n",
              "      <td>0.008940</td>\n",
              "    </tr>\n",
              "    <tr>\n",
              "      <th>its</th>\n",
              "      <td>0.008829</td>\n",
              "    </tr>\n",
              "    <tr>\n",
              "      <th>just</th>\n",
              "      <td>0.008563</td>\n",
              "    </tr>\n",
              "    <tr>\n",
              "      <th>government</th>\n",
              "      <td>0.008164</td>\n",
              "    </tr>\n",
              "    <tr>\n",
              "      <th>you</th>\n",
              "      <td>0.008145</td>\n",
              "    </tr>\n",
              "    <tr>\n",
              "      <th>britain</th>\n",
              "      <td>0.007532</td>\n",
              "    </tr>\n",
              "    <tr>\n",
              "      <th>link</th>\n",
              "      <td>0.006876</td>\n",
              "    </tr>\n",
              "    <tr>\n",
              "      <th>mps</th>\n",
              "      <td>0.006870</td>\n",
              "    </tr>\n",
              "    <tr>\n",
              "      <th>UK</th>\n",
              "      <td>0.006435</td>\n",
              "    </tr>\n",
              "    <tr>\n",
              "      <th>trump</th>\n",
              "      <td>0.006002</td>\n",
              "    </tr>\n",
              "    <tr>\n",
              "      <th>theresa</th>\n",
              "      <td>0.005902</td>\n",
              "    </tr>\n",
              "    <tr>\n",
              "      <th>british</th>\n",
              "      <td>0.005663</td>\n",
              "    </tr>\n",
              "    <tr>\n",
              "      <th>in</th>\n",
              "      <td>0.005614</td>\n",
              "    </tr>\n",
              "    <tr>\n",
              "      <th>london</th>\n",
              "      <td>0.005489</td>\n",
              "    </tr>\n",
              "    <tr>\n",
              "      <th>GOP</th>\n",
              "      <td>0.005250</td>\n",
              "    </tr>\n",
              "    <tr>\n",
              "      <th>guardian</th>\n",
              "      <td>0.005219</td>\n",
              "    </tr>\n",
              "  </tbody>\n",
              "</table>\n",
              "</div>\n",
              "    <div class=\"colab-df-buttons\">\n",
              "\n",
              "  <div class=\"colab-df-container\">\n",
              "    <button class=\"colab-df-convert\" onclick=\"convertToInteractive('df-29e2f2bb-3404-44c1-9516-f47b076ba939')\"\n",
              "            title=\"Convert this dataframe to an interactive table.\"\n",
              "            style=\"display:none;\">\n",
              "\n",
              "  <svg xmlns=\"http://www.w3.org/2000/svg\" height=\"24px\" viewBox=\"0 -960 960 960\">\n",
              "    <path d=\"M120-120v-720h720v720H120Zm60-500h600v-160H180v160Zm220 220h160v-160H400v160Zm0 220h160v-160H400v160ZM180-400h160v-160H180v160Zm440 0h160v-160H620v160ZM180-180h160v-160H180v160Zm440 0h160v-160H620v160Z\"/>\n",
              "  </svg>\n",
              "    </button>\n",
              "\n",
              "  <style>\n",
              "    .colab-df-container {\n",
              "      display:flex;\n",
              "      gap: 12px;\n",
              "    }\n",
              "\n",
              "    .colab-df-convert {\n",
              "      background-color: #E8F0FE;\n",
              "      border: none;\n",
              "      border-radius: 50%;\n",
              "      cursor: pointer;\n",
              "      display: none;\n",
              "      fill: #1967D2;\n",
              "      height: 32px;\n",
              "      padding: 0 0 0 0;\n",
              "      width: 32px;\n",
              "    }\n",
              "\n",
              "    .colab-df-convert:hover {\n",
              "      background-color: #E2EBFA;\n",
              "      box-shadow: 0px 1px 2px rgba(60, 64, 67, 0.3), 0px 1px 3px 1px rgba(60, 64, 67, 0.15);\n",
              "      fill: #174EA6;\n",
              "    }\n",
              "\n",
              "    .colab-df-buttons div {\n",
              "      margin-bottom: 4px;\n",
              "    }\n",
              "\n",
              "    [theme=dark] .colab-df-convert {\n",
              "      background-color: #3B4455;\n",
              "      fill: #D2E3FC;\n",
              "    }\n",
              "\n",
              "    [theme=dark] .colab-df-convert:hover {\n",
              "      background-color: #434B5C;\n",
              "      box-shadow: 0px 1px 3px 1px rgba(0, 0, 0, 0.15);\n",
              "      filter: drop-shadow(0px 1px 2px rgba(0, 0, 0, 0.3));\n",
              "      fill: #FFFFFF;\n",
              "    }\n",
              "  </style>\n",
              "\n",
              "    <script>\n",
              "      const buttonEl =\n",
              "        document.querySelector('#df-29e2f2bb-3404-44c1-9516-f47b076ba939 button.colab-df-convert');\n",
              "      buttonEl.style.display =\n",
              "        google.colab.kernel.accessAllowed ? 'block' : 'none';\n",
              "\n",
              "      async function convertToInteractive(key) {\n",
              "        const element = document.querySelector('#df-29e2f2bb-3404-44c1-9516-f47b076ba939');\n",
              "        const dataTable =\n",
              "          await google.colab.kernel.invokeFunction('convertToInteractive',\n",
              "                                                    [key], {});\n",
              "        if (!dataTable) return;\n",
              "\n",
              "        const docLinkHtml = 'Like what you see? Visit the ' +\n",
              "          '<a target=\"_blank\" href=https://colab.research.google.com/notebooks/data_table.ipynb>data table notebook</a>'\n",
              "          + ' to learn more about interactive tables.';\n",
              "        element.innerHTML = '';\n",
              "        dataTable['output_type'] = 'display_data';\n",
              "        await google.colab.output.renderOutput(dataTable, element);\n",
              "        const docLink = document.createElement('div');\n",
              "        docLink.innerHTML = docLinkHtml;\n",
              "        element.appendChild(docLink);\n",
              "      }\n",
              "    </script>\n",
              "  </div>\n",
              "\n",
              "\n",
              "<div id=\"df-d7223a3b-6fd2-4f08-b70c-670b88e54faa\">\n",
              "  <button class=\"colab-df-quickchart\" onclick=\"quickchart('df-d7223a3b-6fd2-4f08-b70c-670b88e54faa')\"\n",
              "            title=\"Suggest charts\"\n",
              "            style=\"display:none;\">\n",
              "\n",
              "<svg xmlns=\"http://www.w3.org/2000/svg\" height=\"24px\"viewBox=\"0 0 24 24\"\n",
              "     width=\"24px\">\n",
              "    <g>\n",
              "        <path d=\"M19 3H5c-1.1 0-2 .9-2 2v14c0 1.1.9 2 2 2h14c1.1 0 2-.9 2-2V5c0-1.1-.9-2-2-2zM9 17H7v-7h2v7zm4 0h-2V7h2v10zm4 0h-2v-4h2v4z\"/>\n",
              "    </g>\n",
              "</svg>\n",
              "  </button>\n",
              "\n",
              "<style>\n",
              "  .colab-df-quickchart {\n",
              "      --bg-color: #E8F0FE;\n",
              "      --fill-color: #1967D2;\n",
              "      --hover-bg-color: #E2EBFA;\n",
              "      --hover-fill-color: #174EA6;\n",
              "      --disabled-fill-color: #AAA;\n",
              "      --disabled-bg-color: #DDD;\n",
              "  }\n",
              "\n",
              "  [theme=dark] .colab-df-quickchart {\n",
              "      --bg-color: #3B4455;\n",
              "      --fill-color: #D2E3FC;\n",
              "      --hover-bg-color: #434B5C;\n",
              "      --hover-fill-color: #FFFFFF;\n",
              "      --disabled-bg-color: #3B4455;\n",
              "      --disabled-fill-color: #666;\n",
              "  }\n",
              "\n",
              "  .colab-df-quickchart {\n",
              "    background-color: var(--bg-color);\n",
              "    border: none;\n",
              "    border-radius: 50%;\n",
              "    cursor: pointer;\n",
              "    display: none;\n",
              "    fill: var(--fill-color);\n",
              "    height: 32px;\n",
              "    padding: 0;\n",
              "    width: 32px;\n",
              "  }\n",
              "\n",
              "  .colab-df-quickchart:hover {\n",
              "    background-color: var(--hover-bg-color);\n",
              "    box-shadow: 0 1px 2px rgba(60, 64, 67, 0.3), 0 1px 3px 1px rgba(60, 64, 67, 0.15);\n",
              "    fill: var(--button-hover-fill-color);\n",
              "  }\n",
              "\n",
              "  .colab-df-quickchart-complete:disabled,\n",
              "  .colab-df-quickchart-complete:disabled:hover {\n",
              "    background-color: var(--disabled-bg-color);\n",
              "    fill: var(--disabled-fill-color);\n",
              "    box-shadow: none;\n",
              "  }\n",
              "\n",
              "  .colab-df-spinner {\n",
              "    border: 2px solid var(--fill-color);\n",
              "    border-color: transparent;\n",
              "    border-bottom-color: var(--fill-color);\n",
              "    animation:\n",
              "      spin 1s steps(1) infinite;\n",
              "  }\n",
              "\n",
              "  @keyframes spin {\n",
              "    0% {\n",
              "      border-color: transparent;\n",
              "      border-bottom-color: var(--fill-color);\n",
              "      border-left-color: var(--fill-color);\n",
              "    }\n",
              "    20% {\n",
              "      border-color: transparent;\n",
              "      border-left-color: var(--fill-color);\n",
              "      border-top-color: var(--fill-color);\n",
              "    }\n",
              "    30% {\n",
              "      border-color: transparent;\n",
              "      border-left-color: var(--fill-color);\n",
              "      border-top-color: var(--fill-color);\n",
              "      border-right-color: var(--fill-color);\n",
              "    }\n",
              "    40% {\n",
              "      border-color: transparent;\n",
              "      border-right-color: var(--fill-color);\n",
              "      border-top-color: var(--fill-color);\n",
              "    }\n",
              "    60% {\n",
              "      border-color: transparent;\n",
              "      border-right-color: var(--fill-color);\n",
              "    }\n",
              "    80% {\n",
              "      border-color: transparent;\n",
              "      border-right-color: var(--fill-color);\n",
              "      border-bottom-color: var(--fill-color);\n",
              "    }\n",
              "    90% {\n",
              "      border-color: transparent;\n",
              "      border-bottom-color: var(--fill-color);\n",
              "    }\n",
              "  }\n",
              "</style>\n",
              "\n",
              "  <script>\n",
              "    async function quickchart(key) {\n",
              "      const quickchartButtonEl =\n",
              "        document.querySelector('#' + key + ' button');\n",
              "      quickchartButtonEl.disabled = true;  // To prevent multiple clicks.\n",
              "      quickchartButtonEl.classList.add('colab-df-spinner');\n",
              "      try {\n",
              "        const charts = await google.colab.kernel.invokeFunction(\n",
              "            'suggestCharts', [key], {});\n",
              "      } catch (error) {\n",
              "        console.error('Error during call to suggestCharts:', error);\n",
              "      }\n",
              "      quickchartButtonEl.classList.remove('colab-df-spinner');\n",
              "      quickchartButtonEl.classList.add('colab-df-quickchart-complete');\n",
              "    }\n",
              "    (() => {\n",
              "      let quickchartButtonEl =\n",
              "        document.querySelector('#df-d7223a3b-6fd2-4f08-b70c-670b88e54faa button');\n",
              "      quickchartButtonEl.style.display =\n",
              "        google.colab.kernel.accessAllowed ? 'block' : 'none';\n",
              "    })();\n",
              "  </script>\n",
              "</div>\n",
              "\n",
              "    </div>\n",
              "  </div>\n"
            ],
            "application/vnd.google.colaboratory.intrinsic+json": {
              "type": "dataframe",
              "variable_name": "feat_imp",
              "summary": "{\n  \"name\": \"feat_imp\",\n  \"rows\": 41863,\n  \"fields\": [\n    {\n      \"column\": \"importance\",\n      \"properties\": {\n        \"dtype\": \"number\",\n        \"std\": 0.0003544658824449395,\n        \"min\": 0.0,\n        \"max\": 0.032748428469889186,\n        \"num_unique_values\": 16514,\n        \"samples\": [\n          2.832190906428129e-05,\n          4.660112454125497e-05,\n          3.073973461424022e-05\n        ],\n        \"semantic_type\": \"\",\n        \"description\": \"\"\n      }\n    }\n  ]\n}"
            }
          },
          "metadata": {},
          "execution_count": 15
        }
      ],
      "source": [
        "# Display the top 30 feature importances\n",
        "feat_imp = pd.DataFrame(\n",
        "    pipe_expanded_sw_no_via['classifier'].feature_importances_,\n",
        "    index=pipe_expanded_sw_no_via['bow'].get_feature_names_out(),\n",
        "    columns=['importance']\n",
        ").sort_values('importance', ascending=False)\n",
        "\n",
        "feat_imp.head(30)"
      ]
    },
    {
      "cell_type": "markdown",
      "metadata": {
        "id": "8SK4z5U3DT3r"
      },
      "source": [
        "## Save the Model"
      ]
    },
    {
      "cell_type": "code",
      "execution_count": 16,
      "metadata": {
        "id": "6NakzPXYDT3r",
        "colab": {
          "base_uri": "https://localhost:8080/"
        },
        "outputId": "c2cbfa82-c1e9-4fbd-875b-e10b33d4f369"
      },
      "outputs": [
        {
          "output_type": "stream",
          "name": "stdout",
          "text": [
            "Model saved successfully.\n"
          ]
        }
      ],
      "source": [
        "SAVE_MODEL = True\n",
        "MODEL_PATH = \"/content/drive/MyDrive/Models/\"\n",
        "MODEL_FILE_NAME = 'rf_tf-idf_plusguardian_model.sav'\n",
        "\n",
        "if not os.path.exists(MODEL_PATH):\n",
        "    os.makedirs(MODEL_PATH)\n",
        "\n",
        "if SAVE_MODEL:\n",
        "    pickle.dump(pipe_expanded_sw_no_via, open(os.path.join(MODEL_PATH, MODEL_FILE_NAME), 'wb'))\n",
        "    print('Model saved successfully.')"
      ]
    },
    {
      "cell_type": "markdown",
      "metadata": {
        "id": "IRIBDPgVDT3s"
      },
      "source": [
        "---### SummaryThe updated model training notebook above trains a Random Forest classifier on a balanced dataset using a bag-of-words and TF-IDF representation. The helper functions have been updated to work with recent versions of scikit-learn, and the model is saved for deployment. Note that retraining the model with the latest versions ensures compatibility with your production environment."
      ]
    }
  ],
  "metadata": {
    "kernelspec": {
      "display_name": "Python 3",
      "language": "python",
      "name": "python3"
    },
    "language_info": {
      "name": "python",
      "version": "3.x"
    },
    "colab": {
      "provenance": []
    }
  },
  "nbformat": 4,
  "nbformat_minor": 0
}